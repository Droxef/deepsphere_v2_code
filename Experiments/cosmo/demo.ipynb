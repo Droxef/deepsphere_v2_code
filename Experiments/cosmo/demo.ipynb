{
 "cells": [
  {
   "cell_type": "markdown",
   "metadata": {},
   "source": [
    "# [DeepSphere]: a spherical convolutional neural network\n",
    "[DeepSphere]: https://github.com/SwissDataScienceCenter/DeepSphere\n",
    "\n",
    "[Nathanaël Perraudin](https://perraudin.info), [Michaël Defferrard](http://deff.ch), Tomasz Kacprzak, Raphael Sgier\n",
    "\n",
    "# Demo: part of sphere classification\n",
    "\n",
    "This demo uses the whole datataset, smoothing, and the addition of noise.\n",
    "\n",
    "**You need a private dataset to execute this notebook.**\n",
    "See the [README](https://github.com/SwissDataScienceCenter/DeepSphere/tree/master#reproducing-the-results-of-the-paper).\n",
    "But you can use it with your own data."
   ]
  },
  {
   "cell_type": "markdown",
   "metadata": {},
   "source": [
    "### 0.1 Load packages"
   ]
  },
  {
   "cell_type": "code",
   "execution_count": 94,
   "metadata": {},
   "outputs": [
    {
     "name": "stdout",
     "output_type": "stream",
     "text": [
      "The autoreload extension is already loaded. To reload it, use:\n",
      "  %reload_ext autoreload\n"
     ]
    }
   ],
   "source": [
    "%load_ext autoreload\n",
    "%autoreload 2\n",
    "%matplotlib inline"
   ]
  },
  {
   "cell_type": "code",
   "execution_count": 2,
   "metadata": {},
   "outputs": [],
   "source": [
    "import os\n",
    "import shutil\n",
    "import sys\n",
    "\n",
    "# Run on first GPU.\n",
    "os.environ[\"CUDA_VISIBLE_DEVICES\"] = \"0\"\n",
    "sys.path.append('../..')\n",
    "\n",
    "# To get the CUDA profiler (do it on the CLI before starting jupyter):\n",
    "# export LD_LIBRARY_PATH=/usr/local/cuda-9.0/extras/CUPTI/lib64\n",
    "\n",
    "import numpy as np\n",
    "import matplotlib.pyplot as plt\n",
    "\n",
    "from deepsphere import models, experiment_helper, plot, utils\n",
    "from deepsphere.data import LabeledDatasetWithNoise, LabeledDataset"
   ]
  },
  {
   "cell_type": "code",
   "execution_count": 3,
   "metadata": {},
   "outputs": [],
   "source": [
    "plt.rcParams['figure.figsize'] = (17, 5)"
   ]
  },
  {
   "cell_type": "markdown",
   "metadata": {},
   "source": [
    "### 0.2 Definition of the parameters"
   ]
  },
  {
   "cell_type": "markdown",
   "metadata": {},
   "source": [
    "#### A) Non tunable parameters\n",
    "These parameters are fixed or the preprocessing script has to be modified."
   ]
  },
  {
   "cell_type": "code",
   "execution_count": 4,
   "metadata": {},
   "outputs": [],
   "source": [
    "Nside = 1024\n",
    "sigma = 3\n",
    "data_path = '/mnt/scratch/lts2/mdeff/deepsphere/data/same_psd/'\n",
    "# data_path = 'data/same_psd/'"
   ]
  },
  {
   "cell_type": "markdown",
   "metadata": {},
   "source": [
    "#### B) Tunable parameters\n",
    "These parameters can be changed.\n",
    "\n",
    "We choose to work in the noiseless setting by setting `sigma_noise = 0`. This allows this notebook to run an acceptable time. In the noisy case, the training of the network needs considerably more iterations."
   ]
  },
  {
   "cell_type": "code",
   "execution_count": 5,
   "metadata": {},
   "outputs": [],
   "source": [
    "order = 1  # 1,2,4,8 correspond to 12,48,192,768 parts of the sphere.\n",
    "sigma_noise = 2  # Amount of noise for the experiment"
   ]
  },
  {
   "cell_type": "markdown",
   "metadata": {},
   "source": [
    "# 1 Data preparation"
   ]
  },
  {
   "cell_type": "markdown",
   "metadata": {},
   "source": [
    "### 1.1 Data download\n",
    "Set `download` to `True` to download the dataset from zenodo"
   ]
  },
  {
   "cell_type": "code",
   "execution_count": 6,
   "metadata": {},
   "outputs": [],
   "source": [
    "download = False\n",
    "if download:\n",
    "    %run -i 'download.py'"
   ]
  },
  {
   "cell_type": "markdown",
   "metadata": {},
   "source": [
    "### 1.2 Data preprocessing\n",
    "Apply the preprocessing steps.\n",
    "1. Remove the mean of the maps\n",
    "2. Smooth with a radius of 3 arcmin. (`sigma` parameter)\n",
    "\n",
    "Set `preprocess` to `True` to execute the preprocessing script."
   ]
  },
  {
   "cell_type": "code",
   "execution_count": 6,
   "metadata": {
    "scrolled": true
   },
   "outputs": [],
   "source": [
    "preprocess = False\n",
    "if preprocess:\n",
    "    %run -i 'data_preprocess.py'"
   ]
  },
  {
   "cell_type": "markdown",
   "metadata": {},
   "source": [
    "Let us display the resulting PSDs of the preprocessed data. We pre-computed the PSDs for faster execution."
   ]
  },
  {
   "cell_type": "markdown",
   "metadata": {},
   "source": [
    "compute = False\n",
    "if compute:\n",
    "    psd = experiment_helper.psd\n",
    "    data_path = 'data/same_psd/'\n",
    "    ds1 = np.load(data_path+'smoothed_class1_sigma{}.npz'.format(sigma))['arr_0']\n",
    "    ds2 = np.load(data_path+'smoothed_class2_sigma{}.npz'.format(sigma))['arr_0']\n",
    "    psds_img1 = [psd(img) for img in ds1]\n",
    "    psds_img2 = [psd(img) for img in ds2]\n",
    "    np.savez('results/psd_data_sigma{}'.format(sigma), psd_class1=psds_img1, psd_class2=psds_img2)\n",
    "else:\n",
    "    psds_img1 = np.load('results/psd_data_sigma{}.npz'.format(sigma))['psd_class1']\n",
    "    psds_img2 = np.load('results/psd_data_sigma{}.npz'.format(sigma))['psd_class2']"
   ]
  },
  {
   "cell_type": "markdown",
   "metadata": {},
   "source": [
    "The PSD of the two classes is almost indistinguishable. \n",
    "\n",
    "Spoiler Alert! This is the reason why PSD features are not good enough to classify the data."
   ]
  },
  {
   "cell_type": "markdown",
   "metadata": {},
   "source": [
    "ell = np.arange(psds_img1.shape[1])\n",
    "\n",
    "plot.plot_with_std(ell,np.stack(psds_img1)*ell*(ell+1), label='class 1, $\\Omega_m=0.31$, $\\sigma_8=0.82$, $h=0.7$', color='r')\n",
    "plot.plot_with_std(ell,np.stack(psds_img2)*ell*(ell+1), label='class 2, $\\Omega_m=0.26$, $\\sigma_8=0.91$, $h=0.7$', color='b')\n",
    "plt.legend(fontsize=16);\n",
    "plt.xlim([11, np.max(ell)])\n",
    "plt.ylim([1e-6, 5e-4])\n",
    "plt.yscale('log')\n",
    "plt.xscale('log')\n",
    "plt.xlabel('$\\ell$: spherical harmonic index', fontsize=18)\n",
    "plt.ylabel('$C_\\ell \\cdot \\ell \\cdot (\\ell+1)$', fontsize=18)\n",
    "plt.title('Power Spectrum Density, 3-arcmin smoothing, noiseless, Nside=1024', fontsize=18);\n"
   ]
  },
  {
   "cell_type": "markdown",
   "metadata": {},
   "source": [
    "### 1.2 Data loading\n",
    "The following functions will\n",
    "1. Load the preprocessed data\n",
    "2. Create samples by dividing the complete spheres in patches (based on healpix sampling). See the function `hp_split` of `experiment_helper.py` for more specific informations.\n",
    "\n",
    "The function that load the testing data will additionally add the noise to the sample."
   ]
  },
  {
   "cell_type": "code",
   "execution_count": 149,
   "metadata": {},
   "outputs": [],
   "source": [
    "x_raw_train, labels_raw_train, x_raw_std = experiment_helper.get_training_data(sigma, order, data_path=data_path)"
   ]
  },
  {
   "cell_type": "code",
   "execution_count": 7,
   "metadata": {},
   "outputs": [],
   "source": [
    "x_raw_test, labels_test, _ = experiment_helper.get_testing_data(sigma, order, sigma_noise, x_raw_std, data_path=data_path[:-9])"
   ]
  },
  {
   "cell_type": "markdown",
   "metadata": {},
   "source": [
    "* Non normalized Laplacian\n",
    "* degree hist\n",
    "* less neighbours 20"
   ]
  },
  {
   "cell_type": "code",
   "execution_count": 30,
   "metadata": {},
   "outputs": [],
   "source": [
    "Gold = utils.healpix_graph(1024, True, 'normalized', indexes=utils.nside2indexes([1024], 1)[0], new=False)\n",
    "Gnew = utils.healpix_graph(1024, True, 'normalized', indexes=utils.nside2indexes([1024], 1)[0], new=True)"
   ]
  },
  {
   "cell_type": "code",
   "execution_count": 9,
   "metadata": {},
   "outputs": [
    {
     "data": {
      "text/plain": [
       "Text(0.5,1,'weighted degree distribution: DeepSphere V1')"
      ]
     },
     "execution_count": 9,
     "metadata": {},
     "output_type": "execute_result"
    },
    {
     "data": {
      "image/png": "[encoded data removed]",
      "text/plain": [
       "<Figure size 1224x360 with 1 Axes>"
      ]
     },
     "metadata": {},
     "output_type": "display_data"
    }
   ],
   "source": [
    "plt.hist(Gold.dw, bins=100)\n",
    "plt.title('weighted degree distribution: DeepSphere V1', fontsize=14)"
   ]
  },
  {
   "cell_type": "code",
   "execution_count": 10,
   "metadata": {},
   "outputs": [
    {
     "data": {
      "text/plain": [
       "Text(0.5,1,'weighted degree distribution: DeepSphere V2\\nneighbors=50')"
      ]
     },
     "execution_count": 10,
     "metadata": {},
     "output_type": "execute_result"
    },
    {
     "data": {
      "image/png": "[encoded data removed]",
      "text/plain": [
       "<Figure size 1224x360 with 1 Axes>"
      ]
     },
     "metadata": {},
     "output_type": "display_data"
    }
   ],
   "source": [
    "plt.hist(Gnew.dw, bins=100)\n",
    "plt.title('weighted degree distribution: DeepSphere V2\\nneighbors=50', fontsize=14)"
   ]
  },
  {
   "cell_type": "code",
   "execution_count": 93,
   "metadata": {},
   "outputs": [
    {
     "name": "stderr",
     "output_type": "stream",
     "text": [
      "/home/gusset/miniconda3/envs/PDMsphere/lib/python3.6/site-packages/ipykernel_launcher.py:24: RuntimeWarning: Mean of empty slice\n",
      "/home/gusset/miniconda3/envs/PDMsphere/lib/python3.6/site-packages/numpy/lib/nanfunctions.py:1434: RuntimeWarning: Degrees of freedom <= 0 for slice.\n",
      "  keepdims=keepdims)\n",
      "/home/gusset/miniconda3/envs/PDMsphere/lib/python3.6/site-packages/ipykernel_launcher.py:26: RuntimeWarning: Mean of empty slice\n"
     ]
    },
    {
     "data": {
      "text/plain": [
       "([<matplotlib.axis.XTick at 0x7f8116e2b320>,\n",
       "  <matplotlib.axis.XTick at 0x7f8116e2bf98>,\n",
       "  <matplotlib.axis.XTick at 0x7f8116ef20f0>],\n",
       " <a list of 3 Text xticklabel objects>)"
      ]
     },
     "execution_count": 93,
     "metadata": {},
     "output_type": "execute_result"
    },
    {
     "data": {
      "image/png": "[encoded data removed]",
      "text/plain": [
       "<Figure size 1224x360 with 1 Axes>"
      ]
     },
     "metadata": {},
     "output_type": "display_data"
    }
   ],
   "source": [
    "batch_size = 8\n",
    "batch_time_V1 = [1.49936, 1.48389, 1.53598, 1.55628, 1.474281]\n",
    "# batch_time_V2_50 = [3.4973, 3.5826, 3.36076]\n",
    "batch_time_V2_40 = [2.95925, 2.86425, 2.87896]\n",
    "batch_time_V2_20 = [2.09028, 2.04751, 1.96164, 2.00741, 1.94831, 1.93147716, 1.99608524]\n",
    "batch_time_V2_8  = [1.47995, 1.48571, 1.48775]\n",
    "training_time = {\"V1\": \"187 1h45\",\n",
    "                 \"V1 CNN\": \"186 1h45\"\n",
    "#                  \"V2 50\": \"3h10\",\n",
    "                 \"V2 40\": \"363  3h45\",\n",
    "                 \"V2 20\": \"250  2h30\",\n",
    "                 \"V2 8\":  \"185 1h45\",}\n",
    "noise_ = [3, 3.5, 4]# [2, 3, 4, 6, 8]\n",
    "# new_graph_res = [99.17, np.nan, 94.58, 74.58, 68.33]\n",
    "new40_graph_res = [[98.33, 92.5, 91.67]]#[98.33, 96.67, 94.17], [np.nan, np.nan, 91.67]]\n",
    "new20_graph_res = [[np.nan, 91.25, 72.08]]#[95.42, 98.34, 81.67], [np.nan, 91.25, 72.08]]\n",
    "#                     [[99.58, 99.58, 75.0, 67.92, 66.25], [99.58, np.nan,72.5,66.67,66.25], #[np.nan, np.nan, 71.25, 62.08]\n",
    "#                    [99.58, np.nan,81.67,54.17,57.5], [100, np.nan, 80.42, 74.58,68.34]]\n",
    "new8_graph_res = [[97.5, 87.08, 97.08]]#[97.5, 90, 73.34], [94.17, 87.08, 81.67]]\n",
    "#                 [[99.17, 90.0, 90.42, 62.92, 64.12],[99.58, 98.75, 83.33, 73.75, 63.75], [100, np.nan, 68.34, 69.17, 57.08], \n",
    "#                   [100, np.nan, 82.92, 62.92, 57.5]]\n",
    "old_graph_res = [[95.83, 83.75, np.nan]]#[95.83, 91.25, 71.25], [np.nan, 83.75, np.nan]]\n",
    "#                 [[99.17, 98.34, 94.58, 61.25, 57.5], [np.nan, np.nan,79.17,62.08,62.08], # ,[99.17, 93.75, 70.42, 70.42]\n",
    "#                  [100, np.nan, 83.75, 57.5, 61.25], [100, np.nan, 94.58, 75.0, 60.0], [100, np.nan, 72.67, 62.08, np.nan]]\n",
    "plt.errorbar(noise_, np.nanmean(old_graph_res, axis=0), yerr=np.nanstd(old_graph_res, axis=0), capsize=10,label='DeepSphere V1')\n",
    "plt.errorbar(noise_, np.nanmean(new8_graph_res, axis=0), yerr=np.nanstd(new8_graph_res, axis=0), capsize=10, label='DeepSphere V2 8 neighbours')\n",
    "plt.errorbar(noise_, np.nanmean(new20_graph_res, axis=0), yerr=np.nanstd(new20_graph_res, axis=0), capsize=10, label='DeepSphere V2 20 neighbours')\n",
    "plt.errorbar(noise_, np.nanmean(new40_graph_res, axis=0), yerr=np.nanstd(new40_graph_res, axis=0), capsize=10, label='DeepSphere V2 40 neighbours')\n",
    "# plt.errorbar(noise_, new_graph_res, yerr=[0, 0, 0, 0, 0], label='DeepSphere V2 50 neighbours')\n",
    "plt.legend()\n",
    "plt.xlabel('sigma noise', fontsize=14)\n",
    "plt.ylabel('Accuracy (%)', fontsize=14)\n",
    "plt.title('Performance on test set with order 1 for cosmo experiment', fontsize=14)\n",
    "# plt.xlim([2.8,4.2])\n",
    "plt.xticks([3,3.5,4])"
   ]
  },
  {
   "cell_type": "markdown",
   "metadata": {},
   "source": [
    "# 2 Solve the problem using histogram features and an SVM classifier"
   ]
  },
  {
   "cell_type": "markdown",
   "metadata": {},
   "source": [
    "### 2.1 Features compuation and dataset creation\n",
    "The following function prepare the features for the SVM classifier.\n",
    "1. It splits the training data into a training and a validation set.\n",
    "2. It augments the training set by adding different realization of random noise to the sample\n",
    "3. It computes the histogram features for the training, validation and testing set.\n",
    "4. It normalizes the features in order for them to have a mean of 0 and a variance of 1.\n",
    "\n",
    "The features are computed using the function `histogram` of `experiment_helper.py`.\n",
    "\n",
    "We use 10 different noise realization by setting `augmentation=10` in order to increase the number of training sample."
   ]
  },
  {
   "cell_type": "markdown",
   "metadata": {},
   "source": [
    "ret = experiment_helper.data_preprossing(x_raw_train, labels_raw_train, x_raw_test, sigma_noise, feature_type='histogram', augmentation=10)\n",
    "features_train, labels_train, features_validation, labels_validation, features_test = ret "
   ]
  },
  {
   "cell_type": "markdown",
   "metadata": {},
   "source": [
    "### 2.2  Classification using SVM\n",
    "Let us test classify our data using an SVM classifier."
   ]
  },
  {
   "cell_type": "markdown",
   "metadata": {},
   "source": [
    "error_train, error_validation, C = experiment_helper.err_svc_linear(features_train, labels_train, features_validation, labels_validation)\n"
   ]
  },
  {
   "cell_type": "markdown",
   "metadata": {},
   "source": [
    "print('The validation error is {}%'.format(error_validation * 100), flush=True)\n",
    "print('The Training error is {}%'.format(error_train * 100), flush=True)\n"
   ]
  },
  {
   "cell_type": "markdown",
   "metadata": {},
   "source": [
    "We now compute the error on the testing set. To avoid complexity, we do a small mistake that advantage the SVM classifer: we do cross-validation on the testing set.\n",
    "\n",
    "While this is wrong, the spherical CNN still clearly outperform the SVM classifier."
   ]
  },
  {
   "cell_type": "markdown",
   "metadata": {},
   "source": [
    "_, error_test = experiment_helper.err_svc_linear_single(C, features_train, labels_train, features_test, labels_test)"
   ]
  },
  {
   "cell_type": "markdown",
   "metadata": {},
   "source": [
    "print('The testing error is {}%'.format(error_test * 100), flush=True)"
   ]
  },
  {
   "cell_type": "markdown",
   "metadata": {},
   "source": [
    "### 2.3 Histogram features visualization\n",
    "\n",
    "To get a grasp of what is happening, let us plot the histogram of the data."
   ]
  },
  {
   "cell_type": "markdown",
   "metadata": {},
   "source": [
    "cmin = np.min(x_raw_train)\n",
    "cmax = np.max(x_raw_train)\n",
    "bins = 100\n",
    "x = np.linspace(cmin,cmax,bins)\n",
    "\n",
    "fig, axes = plt.subplots(1, 2)\n",
    "x_hist = experiment_helper.histogram(x_raw_train, cmin, cmax)\n",
    "plot.plot_with_std(x, x_hist[labels_raw_train==0], color='b', label='class 1', ax=axes[0])\n",
    "plot.plot_with_std(x, x_hist[labels_raw_train==1], color='r', label='class 2', ax=axes[0])\n",
    "axes[0].legend()\n",
    "axes[0].set_title('Histogram - Noiselss case');\n",
    "\n",
    "if sigma_noise:\n",
    "    # Updating cmin and cmax does not really affect the features. \n",
    "    # We keep the same as in the noisless case in order to have the same x axis.\n",
    "    x_hist = experiment_helper.histogram(x_raw_train+sigma_noise*np.random.randn(*x_raw_train.shape), cmin, cmax)\n",
    "    plot.plot_with_std(x, x_hist[labels_raw_train==0], color='b', label='class 1', ax=axes[1])\n",
    "    plot.plot_with_std(x, x_hist[labels_raw_train==1], color='r', label='class 2', ax=axes[1])\n",
    "    axes[1].legend()\n",
    "    axes[1].set_title('Histogram-  Noisy case');\n"
   ]
  },
  {
   "cell_type": "markdown",
   "metadata": {},
   "source": [
    "These histogram are normalized in order to get the final features"
   ]
  },
  {
   "cell_type": "markdown",
   "metadata": {},
   "source": [
    "ax = plot.plot_with_std(features_train[labels_train==0], color='b', label='class 1')\n",
    "ax = plot.plot_with_std(features_train[labels_train==1], color='r', label='class 2', ax=ax)\n",
    "ax.legend()\n",
    "ax.set_title('Histogram features');"
   ]
  },
  {
   "cell_type": "markdown",
   "metadata": {},
   "source": [
    "# ax = plot.plot_with_std(features_validation[labels_validation==0,:80], color='b', label='class 1')\n",
    "# ax = plot.plot_with_std(features_validation[labels_validation==1,:80], color='r', label='class 2', ax=ax)\n",
    "# ax.legend()\n",
    "# ax.set_title('Histogram features - Validation set');"
   ]
  },
  {
   "cell_type": "markdown",
   "metadata": {},
   "source": [
    "# ax = plot.plot_with_std(features_test[labels_test==0,:80], color='b', label='class 1')\n",
    "# ax = plot.plot_with_std(features_test[labels_test==1,:80], color='r', label='class 2', ax=ax)\n",
    "# ax.legend()\n",
    "# ax.set_title('Histogram features - Test set');"
   ]
  },
  {
   "cell_type": "markdown",
   "metadata": {},
   "source": [
    "# 3 Solve the problem using PSD features and an SVM classifier\n",
    "Solving the problem with PSD features is very similar than solving it with histogram features. Hence we are not describing each step.\n",
    "\n",
    "The computation of the PSD features is actually very expensive. Since the classifier will also fail miserably, you may just want to not exectute this part of the notebook. In order to reduce the amount of PSD to be computed, we disable the dataset augementation by setting `augmentation=1`. Nevertheless, we use augmentation for the results in the paper."
   ]
  },
  {
   "cell_type": "markdown",
   "metadata": {},
   "source": [
    "ret = experiment_helper.data_preprossing(x_raw_train, labels_raw_train, x_raw_test, sigma_noise, feature_type='psd', augmentation=1)\n",
    "features_train, labels_train, features_validation, labels_validation, features_test = ret "
   ]
  },
  {
   "cell_type": "markdown",
   "metadata": {},
   "source": [
    "error_train, error_validation, C = experiment_helper.err_svc_linear(features_train, labels_train, features_validation, labels_validation)\n",
    "print('The validation error is {}%'.format(error_validation * 100), flush=True)\n",
    "print('The Training error is {}%'.format(error_train * 100), flush=True)"
   ]
  },
  {
   "cell_type": "markdown",
   "metadata": {},
   "source": [
    "_, error_test = experiment_helper.err_svc_linear_single(C, features_train, labels_train, features_test, labels_test)\n",
    "print('The testing error is {}%'.format(error_test * 100), flush=True)"
   ]
  },
  {
   "cell_type": "markdown",
   "metadata": {},
   "source": [
    "### 2.3 PSD features visualization\n",
    "\n",
    "To get a grasp of what is happening, let us plot the psd features. "
   ]
  },
  {
   "cell_type": "markdown",
   "metadata": {},
   "source": [
    "ell = np.arange(features_train.shape[1])\n",
    "ax = plot.plot_with_std(ell, features_train[labels_train==0], color='b', label='class 1')\n",
    "ax = plot.plot_with_std(ell, features_train[labels_train==1], color='r', label='class 2', ax=ax)\n",
    "ax.legend()\n",
    "ax.set_title('PSD features');\n",
    "# plt.xscale('log')"
   ]
  },
  {
   "cell_type": "markdown",
   "metadata": {},
   "source": [
    "# ell = np.arange(features_train.shape[1])\n",
    "# ax = plot.plot_with_std(ell, features_validation[labels_validation==0], color='b', label='class 1')\n",
    "# ax = plot.plot_with_std(ell, features_validation[labels_validation==1], color='r', label='class 2', ax=ax)\n",
    "# ax.legend()\n",
    "# ax.set_title('PSD features - validation dataset');\n",
    "# # plt.xscale('log')"
   ]
  },
  {
   "cell_type": "markdown",
   "metadata": {},
   "source": [
    "# ell = np.arange(features_train.shape[1])\n",
    "# ax = plot.plot_with_std(ell, features_test[labels_test==0], color='b', label='class 1')\n",
    "# ax = plot.plot_with_std(ell, features_test[labels_test==1], color='r', label='class 2', ax=ax)\n",
    "# ax.legend()\n",
    "# ax.set_title('PSD features - testing dataset');\n",
    "# # plt.xscale('log')"
   ]
  },
  {
   "cell_type": "markdown",
   "metadata": {},
   "source": [
    "# 4 Classification using Deep Sphere\n",
    "\n",
    "Let us now classify our data using a spherical convolutional neural network."
   ]
  },
  {
   "cell_type": "markdown",
   "metadata": {},
   "source": [
    "### 4.1 Preparation of the dataset\n",
    "Let us create the datafor the spherical neural network. It is simply the raw data."
   ]
  },
  {
   "cell_type": "code",
   "execution_count": 97,
   "metadata": {},
   "outputs": [
    {
     "name": "stdout",
     "output_type": "stream",
     "text": [
      "Class 1 VS class 2\n",
      "  Training set: 195 / 189\n",
      "  Validation set: 45 / 51\n"
     ]
    }
   ],
   "source": [
    "ret = experiment_helper.data_preprossing(x_raw_train, labels_raw_train, x_raw_test, sigma_noise, feature_type=None)\n",
    "features_train, labels_train, features_validation, labels_validation, features_test = ret"
   ]
  },
  {
   "cell_type": "markdown",
   "metadata": {},
   "source": [
    "The spherical neural network will uses a Dataset object that need to be initialized. The object `LabeledDatasetWithNoise` will add noise to the raw data at the time of training. It will slowly increase the amount of noise during `nit` iteration."
   ]
  },
  {
   "cell_type": "code",
   "execution_count": 155,
   "metadata": {},
   "outputs": [],
   "source": [
    "training = LabeledDatasetWithNoise(features_train, labels_train, end_level=sigma_noise)\n",
    "validation = LabeledDataset(features_validation, labels_validation)"
   ]
  },
  {
   "cell_type": "markdown",
   "metadata": {},
   "source": [
    "### 4.2 Building the Network\n",
    "\n",
    "We now create our spherical neural network. We use one architecture, a fully convolutional architecture (see the exact parameters in `hyperparameters.py`), for all the problems (that is for all configurations of `order` and `sigma_noise`. A smaller `order` means more pixels per sample, that is more data for a prediction. It translates to higher accuracy as the network is more confident about its prediction (as they are averaged across spatial locations).\n",
    "\n",
    "For the paper, we selected a conservative set of parameters that were providing good results across the board. To train faster, diminish `num_epochs`, or interrupt training whenever you get bored. To reproduce all the results from the paper, the easiest is to run the `experiments_deepsphere.py` script."
   ]
  },
  {
   "cell_type": "code",
   "execution_count": 151,
   "metadata": {},
   "outputs": [],
   "source": [
    "ntype = 'FCN'\n",
    "EXP_NAME = 'oldgraph_{}sides_{:0.1f}noise_{}order_{}sigma_{}'.format(Nside, sigma_noise, order, sigma, ntype)"
   ]
  },
  {
   "cell_type": "code",
   "execution_count": 13,
   "metadata": {},
   "outputs": [],
   "source": [
    "# Cleanup before running again.\n",
    "shutil.rmtree('summaries/{}/'.format(EXP_NAME), ignore_errors=True)\n",
    "shutil.rmtree('checkpoints/{}/'.format(EXP_NAME), ignore_errors=True)"
   ]
  },
  {
   "cell_type": "code",
   "execution_count": null,
   "metadata": {},
   "outputs": [],
   "source": [
    "def get_params(ntrain, EXP_NAME, order, Nside, architecture=\"FCN\", verbose=True):\n",
    "    \"\"\"Parameters for the cgcnn and cnn2d defined in deepsphere/models.py\"\"\"\n",
    "\n",
    "    n_classes = 2\n",
    "\n",
    "    params = dict()\n",
    "    params['dir_name'] = EXP_NAME\n",
    "\n",
    "    # Types of layers.\n",
    "    params['conv'] = 'chebyshev5'  # Graph convolution: chebyshev5 or monomials.\n",
    "    params['pool'] = 'max'  # Pooling: max or average.\n",
    "    params['activation'] = 'relu'  # Non-linearity: relu, elu, leaky_relu, softmax, tanh, etc.\n",
    "    params['statistics'] = 'mean'  # Statistics (for invariance): None, mean, var, meanvar, hist.\n",
    "\n",
    "    # Architecture.\n",
    "    params['F'] = [16, 32, 64, 64, 64, n_classes]  # Graph convolutional layers: number of feature maps.\n",
    "    params['K'] = [5] * 6  # Polynomial orders.\n",
    "    params['batch_norm'] = [True] * 6  # Batch normalization.\n",
    "    params['M'] = []  # Fully connected layers: output dimensionalities.\n",
    "\n",
    "    # Pooling.\n",
    "    nsides = [Nside, Nside//2, Nside//4, Nside//8, Nside//16, Nside//32, Nside//32]\n",
    "    params['nsides'] = nsides\n",
    "    params['indexes'] = utils.nside2indexes(nsides, order)\n",
    "#     params['batch_norm_full'] = []\n",
    "\n",
    "    if architecture == \"CNN\":\n",
    "        # Classical convolutional neural network.\n",
    "        # Replace the last graph convolution and global average pooling by a fully connected layer.\n",
    "        # That is, change the classifier while keeping the feature extractor.\n",
    "        params['F'] = params['F'][:-1]\n",
    "        params['K'] = params['K'][:-1]\n",
    "        params['batch_norm'] = params['batch_norm'][:-1]\n",
    "        params['nsides'] = params['nsides'][:-1]\n",
    "        params['indexes'] = params['indexes'][:-1]\n",
    "        params['statistics'] = None\n",
    "        params['M'] = [n_classes]\n",
    "    elif architecture == \"FCN\":\n",
    "        pass\n",
    "    elif architecture == 'CNN-2d':\n",
    "        params['F'] = [8, 16, 32, 32, 16]\n",
    "        params['K'] = [[5, 5]] * 5\n",
    "        params['p'] = [2, 2, 2, 2, 2]\n",
    "        params['input_shape'] = [1024//order, 1024//order]\n",
    "        params['batch_norm'] = params['batch_norm'][:-1]\n",
    "        params['statistics'] = None\n",
    "        params['M'] = [n_classes]\n",
    "        del params['indexes']\n",
    "        del params['nsides']\n",
    "        del params['conv']\n",
    "\n",
    "    elif architecture == 'FCN-2d':\n",
    "        params['F'] = [8, 16, 32, 32, 16, 2]\n",
    "        params['K'] = [[5, 5]] * 6\n",
    "        params['p'] = [2, 2, 2, 2, 2, 1]\n",
    "        params['input_shape'] = [1024//order, 1024//order]\n",
    "        del params['indexes']\n",
    "        del params['nsides']\n",
    "        del params['conv']\n",
    "    else:\n",
    "        raise ValueError('Unknown architecture {}.'.format(architecture))\n",
    "\n",
    "    # Regularization (to prevent over-fitting).\n",
    "    params['regularization'] = 0  # Amount of L2 regularization over the weights (will be divided by the number of weights).\n",
    "    if '2d' in architecture:\n",
    "        params['regularization'] = 3\n",
    "    params['dropout'] = 1  # Percentage of neurons to keep.\n",
    "\n",
    "    # Training.\n",
    "    params['num_epochs'] = 80  # Number of passes through the training data.\n",
    "    params['batch_size'] = max(8 * order, 1)    # Constant quantity of information (#pixels) per step (invariant to sample size).\n",
    "\n",
    "    # Optimization: learning rate schedule and optimizer.\n",
    "    params['scheduler'] = lambda step: tf.train.exponential_decay(2e-4, step, decay_steps=1, decay_rate=0.999)\n",
    "    params['optimizer'] = lambda lr: tf.train.AdamOptimizer(lr, beta1=0.9, beta2=0.999, epsilon=1e-8)\n",
    "\n",
    "    # Number of model evaluations during training (influence training time).\n",
    "    n_evaluations = 80\n",
    "    params['eval_frequency'] = int(params['num_epochs'] * ntrain / params['batch_size'] / n_evaluations)\n",
    "\n",
    "    if verbose:\n",
    "        print('#sides: {}'.format(nsides))\n",
    "#         print('#pixels: {}'.format([(nside//order)**2 for nside in nsides]))\n",
    "        # Number of pixels on the full sphere: 12 * nsides**2.\n",
    "\n",
    "        print('#samples per batch: {}'.format(params['batch_size']))\n",
    "#         print('=> #pixels per batch (input): {:,}'.format(params['batch_size']*(Nside//order)**2))\n",
    "#         print('=> #pixels for training (input): {:,}'.format(params['num_epochs']*ntrain*(Nside//order)**2))\n",
    "\n",
    "        n_steps = params['num_epochs'] * ntrain // params['batch_size']\n",
    "        lr = [params['scheduler'](step).eval(session=tf.Session()) for step in [0, n_steps]]\n",
    "        print('Learning rate will start at {:.1e} and finish at {:.1e}.'.format(*lr))\n",
    "\n",
    "    return params"
   ]
  },
  {
   "cell_type": "code",
   "execution_count": 14,
   "metadata": {},
   "outputs": [
    {
     "name": "stdout",
     "output_type": "stream",
     "text": [
      "#sides: [1024, 512, 256, 128, 64, 32, 32]\n",
      "#samples per batch: 16\n",
      "Learning rate will start at 2.0e-04 and finish at 4.7e-05.\n",
      "build laplacian, time:  2.8578410148620605\n",
      "rescale laplacian, time:  21.98816967010498\n",
      "build laplacian, time:  22.520158767700195\n",
      "rescale laplacian, time:  24.76691198348999\n",
      "build laplacian, time:  24.957375526428223\n",
      "rescale laplacian, time:  25.347638607025146\n",
      "build laplacian, time:  25.39183497428894\n",
      "rescale laplacian, time:  25.51144003868103\n",
      "build laplacian, time:  25.522844791412354\n",
      "rescale laplacian, time:  25.560038328170776\n",
      "build laplacian, time:  25.565006256103516\n",
      "rescale laplacian, time:  25.576037883758545\n",
      "NN architecture\n",
      "  input: M_0 = 1048576\n",
      "  layer 1: cgconv1\n",
      "    representation: M_0 * F_1 / p_1 = 1048576 * 16 / 4 = 4194304\n",
      "    weights: F_0 * F_1 * K_1 = 1 * 16 * 5 = 80\n",
      "    biases: F_1 = 16\n",
      "    batch normalization\n",
      "  layer 2: cgconv2\n",
      "    representation: M_1 * F_2 / p_2 = 262144 * 32 / 4 = 2097152\n",
      "    weights: F_1 * F_2 * K_2 = 16 * 32 * 5 = 2560\n",
      "    biases: F_2 = 32\n",
      "    batch normalization\n",
      "  layer 3: cgconv3\n",
      "    representation: M_2 * F_3 / p_3 = 65536 * 64 / 4 = 1048576\n",
      "    weights: F_2 * F_3 * K_3 = 32 * 64 * 5 = 10240\n",
      "    biases: F_3 = 64\n",
      "    batch normalization\n",
      "  layer 4: cgconv4\n",
      "    representation: M_3 * F_4 / p_4 = 16384 * 64 / 4 = 262144\n",
      "    weights: F_3 * F_4 * K_4 = 64 * 64 * 5 = 20480\n",
      "    biases: F_4 = 64\n",
      "    batch normalization\n",
      "  layer 5: cgconv5\n",
      "    representation: M_4 * F_5 / p_5 = 4096 * 64 / 4 = 65536\n",
      "    weights: F_4 * F_5 * K_5 = 64 * 64 * 5 = 20480\n",
      "    biases: F_5 = 64\n",
      "    batch normalization\n",
      "  layer 6: cgconv6\n",
      "    representation: M_5 * F_6 / p_6 = 1024 * 2 / 1 = 2048\n",
      "    weights: F_5 * F_6 * K_6 = 64 * 2 * 5 = 640\n",
      "    batch normalization\n",
      "  Statistical layer: mean\n",
      "    representation: 1 * 2 = 2\n",
      "data iterator inst., time:  0.033596038818359375\n",
      "inputs, time:  0.036535024642944336\n",
      "filter0, time:  0.9619312286376953\n",
      "bn0, time:  1.0096197128295898\n",
      "relu0, time:  1.0158302783966064\n",
      "pooling0, time:  1.0193378925323486\n",
      "filter1, time:  1.246886968612671\n",
      "bn1, time:  1.329209566116333\n",
      "relu1, time:  1.3381226062774658\n",
      "pooling1, time:  1.3425240516662598\n",
      "filter2, time:  1.4148547649383545\n",
      "bn2, time:  1.463310718536377\n",
      "relu2, time:  1.4693574905395508\n",
      "pooling2, time:  1.4722998142242432\n",
      "filter3, time:  1.513610601425171\n",
      "bn3, time:  1.5613222122192383\n",
      "relu3, time:  1.5670993328094482\n",
      "pooling3, time:  1.570112705230713\n",
      "filter4, time:  1.6103322505950928\n",
      "bn4, time:  1.6570966243743896\n",
      "relu4, time:  1.6633448600769043\n",
      "pooling4, time:  1.6675159931182861\n",
      "filter5, time:  1.7075505256652832\n",
      "inference done, time:  1.7498605251312256\n",
      "loss done, time:  1.7640166282653809\n",
      "training done, time:  3.4741170406341553\n",
      "op end done, time:  3.477363348007202\n",
      "metrics done, time:  3.4951183795928955\n",
      "all done, time:  3.5433247089385986\n"
     ]
    }
   ],
   "source": [
    "params = get_params(training.N, EXP_NAME, order, Nside, ntype)\n",
    "# params['profile'] = True  # See computation time and memory usage in Tensorboard.\n",
    "# params['debug'] = True  # Debug the model in Tensorboard.\n",
    "model = models.deepsphere(**params, new=False)"
   ]
  },
  {
   "cell_type": "markdown",
   "metadata": {},
   "source": [
    "### 4.3 Find an optimal learning rate (optional)\n",
    "\n",
    "The learning rate is the most important hyper-parameter. A technique to find an optimal value is to visualize the validation loss while increasing the learning rate. One way to define the optimal learning rate is to search for the largest value looking for which the validation loss still decreases."
   ]
  },
  {
   "cell_type": "code",
   "execution_count": 15,
   "metadata": {},
   "outputs": [],
   "source": [
    "# backup = params.copy()\n",
    "# \n",
    "# params, learning_rate = utils.test_learning_rates(params, training.N, 1e-6, 1e-1, num_epochs=20)\n",
    "# \n",
    "# shutil.rmtree('summaries/{}/'.format(params['dir_name']), ignore_errors=True)\n",
    "# shutil.rmtree('checkpoints/{}/'.format(params['dir_name']), ignore_errors=True)\n",
    "# \n",
    "# model = models.deepsphere(**params)\n",
    "# _, loss_validation, _, _ = model.fit(training, validation)\n",
    "# \n",
    "# params.update(backup)\n",
    "#\n",
    "# plt.semilogx(learning_rate, loss_validation, '.-')"
   ]
  },
  {
   "cell_type": "markdown",
   "metadata": {},
   "source": [
    "### 4.4 Training the network\n",
    "\n",
    "Here are a few remarks.\n",
    "* The model will create tensorboard summaries in the `summaries` folder. Start tensorboard with `cd summaries` then `tensorboard --logdir .`, and open <http://localhost:6006> in a browser tab to visualize training progress and statistics about the learned parameters. You can debug the model by setting `params['debug'] = True` and launching tensorboard with `tensorboard --logdir . --debugger_port 6064`.\n",
    "* You probably need a GPU to train the model in an acceptable amount of time.\n",
    "* You will get slightly different results every time the network is trained."
   ]
  },
  {
   "cell_type": "code",
   "execution_count": null,
   "metadata": {
    "scrolled": true
   },
   "outputs": [
    {
     "name": "stdout",
     "output_type": "stream",
     "text": [
      "training from scratch\n",
      "step 14 / 1440 (epoch 0.58 / 60):\n",
      "  learning_rate = 1.97e-04, training mAP = 0.00, training loss = 6.92e-01\n"
     ]
    },
    {
     "name": "stderr",
     "output_type": "stream",
     "text": [
      "/home/gusset/miniconda3/envs/PDMsphere/lib/python3.6/site-packages/sklearn/metrics/classification.py:1135: UndefinedMetricWarning: F-score is ill-defined and being set to 0.0 in labels with no predicted samples.\n",
      "  'precision', 'predicted', average, warn_for)\n"
     ]
    },
    {
     "name": "stdout",
     "output_type": "stream",
     "text": [
      "  validation accuracy: 53.12 (51 / 96), f1 (weighted): 36.86, loss: 1.16e+00\n",
      "  CPU time: 57s, wall time: 70s, perf_time_load: 1.671s, perf_time: 2.775s\n",
      "step 28 / 1440 (epoch 1.17 / 60):\n",
      "  learning_rate = 1.95e-04, training mAP = 0.00, training loss = 5.98e-01\n",
      "  validation accuracy: 53.12 (51 / 96), f1 (weighted): 36.86, loss: 1.04e+00\n",
      "  CPU time: 97s, wall time: 125s, perf_time_load: 1.672s, perf_time: 2.771s\n",
      "step 42 / 1440 (epoch 1.75 / 60):\n",
      "  learning_rate = 1.92e-04, training mAP = 0.00, training loss = 6.37e-01\n",
      "  validation accuracy: 53.12 (51 / 96), f1 (weighted): 36.86, loss: 1.17e+00\n",
      "  CPU time: 130s, wall time: 173s, perf_time_load: 1.696s, perf_time: 2.683s\n",
      "step 56 / 1440 (epoch 2.33 / 60):\n",
      "  learning_rate = 1.89e-04, training mAP = 0.00, training loss = 6.18e-01\n",
      "  validation accuracy: 53.12 (51 / 96), f1 (weighted): 36.86, loss: 1.30e+00\n",
      "  CPU time: 164s, wall time: 222s, perf_time_load: 1.726s, perf_time: 2.849s\n",
      "step 70 / 1440 (epoch 2.92 / 60):\n",
      "  learning_rate = 1.87e-04, training mAP = 0.00, training loss = 5.49e-01\n",
      "  validation accuracy: 53.12 (51 / 96), f1 (weighted): 36.86, loss: 1.36e+00\n",
      "  CPU time: 197s, wall time: 269s, perf_time_load: 1.692s, perf_time: 2.856s\n",
      "step 84 / 1440 (epoch 3.50 / 60):\n",
      "  learning_rate = 1.84e-04, training mAP = 0.00, training loss = 4.58e-01\n",
      "  validation accuracy: 53.12 (51 / 96), f1 (weighted): 36.86, loss: 1.82e+00\n",
      "  CPU time: 231s, wall time: 317s, perf_time_load: 1.716s, perf_time: 2.916s\n",
      "step 98 / 1440 (epoch 4.08 / 60):\n",
      "  learning_rate = 1.82e-04, training mAP = 0.00, training loss = 4.42e-01\n",
      "  validation accuracy: 53.12 (51 / 96), f1 (weighted): 36.86, loss: 1.58e+00\n",
      "  CPU time: 264s, wall time: 366s, perf_time_load: 1.690s, perf_time: 2.905s\n",
      "step 112 / 1440 (epoch 4.67 / 60):\n",
      "  learning_rate = 1.79e-04, training mAP = 0.00, training loss = 4.61e-01\n",
      "  validation accuracy: 53.12 (51 / 96), f1 (weighted): 36.86, loss: 2.06e+00\n",
      "  CPU time: 298s, wall time: 414s, perf_time_load: 1.701s, perf_time: 2.677s\n",
      "step 126 / 1440 (epoch 5.25 / 60):\n",
      "  learning_rate = 1.76e-04, training mAP = 0.00, training loss = 3.33e-01\n",
      "  validation accuracy: 53.12 (51 / 96), f1 (weighted): 36.86, loss: 1.95e+00\n",
      "  CPU time: 331s, wall time: 462s, perf_time_load: 1.686s, perf_time: 2.798s\n",
      "step 140 / 1440 (epoch 5.83 / 60):\n",
      "  learning_rate = 1.74e-04, training mAP = 0.00, training loss = 3.44e-01\n",
      "  validation accuracy: 53.12 (51 / 96), f1 (weighted): 36.86, loss: 8.79e-01\n",
      "  CPU time: 363s, wall time: 509s, perf_time_load: 1.681s, perf_time: 2.832s\n",
      "step 154 / 1440 (epoch 6.42 / 60):\n",
      "  learning_rate = 1.72e-04, training mAP = 0.00, training loss = 3.33e-01\n",
      "  validation accuracy: 93.75 (90 / 96), f1 (weighted): 93.75, loss: 2.83e-01\n",
      "  CPU time: 395s, wall time: 556s, perf_time_load: 1.690s, perf_time: 2.797s\n",
      "step 168 / 1440 (epoch 7.00 / 60):\n",
      "  learning_rate = 1.69e-04, training mAP = 0.00, training loss = 2.60e-01\n",
      "  validation accuracy: 52.08 (50 / 96), f1 (weighted): 40.51, loss: 1.23e+00\n",
      "  CPU time: 428s, wall time: 603s, perf_time_load: 1.601s, perf_time: 2.705s\n",
      "step 182 / 1440 (epoch 7.58 / 60):\n",
      "  learning_rate = 1.67e-04, training mAP = 0.00, training loss = 3.37e-01\n",
      "  validation accuracy: 71.88 (69 / 96), f1 (weighted): 70.06, loss: 4.23e-01\n",
      "  CPU time: 462s, wall time: 652s, perf_time_load: 1.728s, perf_time: 2.886s\n",
      "step 196 / 1440 (epoch 8.17 / 60):\n",
      "  learning_rate = 1.65e-04, training mAP = 0.00, training loss = 2.18e-01\n",
      "  validation accuracy: 55.21 (53 / 96), f1 (weighted): 46.13, loss: 6.82e-01\n",
      "  CPU time: 496s, wall time: 701s, perf_time_load: 1.735s, perf_time: 2.855s\n",
      "step 210 / 1440 (epoch 8.75 / 60):\n",
      "  learning_rate = 1.62e-04, training mAP = 0.00, training loss = 1.02e-01\n",
      "  validation accuracy: 68.75 (66 / 96), f1 (weighted): 66.15, loss: 4.85e-01\n",
      "  CPU time: 531s, wall time: 750s, perf_time_load: 1.757s, perf_time: 3.001s\n",
      "step 224 / 1440 (epoch 9.33 / 60):\n",
      "  learning_rate = 1.60e-04, training mAP = 0.00, training loss = 1.65e-01\n",
      "  validation accuracy: 56.25 (54 / 96), f1 (weighted): 47.90, loss: 7.23e-01\n",
      "  CPU time: 566s, wall time: 800s, perf_time_load: 1.642s, perf_time: 2.759s\n",
      "step 238 / 1440 (epoch 9.92 / 60):\n",
      "  learning_rate = 1.58e-04, training mAP = 0.00, training loss = 1.42e-01\n",
      "  validation accuracy: 46.88 (45 / 96), f1 (weighted): 29.92, loss: 1.82e+00\n",
      "  CPU time: 600s, wall time: 849s, perf_time_load: 1.775s, perf_time: 2.993s\n",
      "step 252 / 1440 (epoch 10.50 / 60):\n",
      "  learning_rate = 1.56e-04, training mAP = 0.00, training loss = 1.23e-01\n",
      "  validation accuracy: 46.88 (45 / 96), f1 (weighted): 29.92, loss: 2.81e+00\n",
      "  CPU time: 635s, wall time: 899s, perf_time_load: 1.785s, perf_time: 2.959s\n",
      "step 266 / 1440 (epoch 11.08 / 60):\n",
      "  learning_rate = 1.53e-04, training mAP = 0.00, training loss = 1.01e-01\n",
      "  validation accuracy: 46.88 (45 / 96), f1 (weighted): 29.92, loss: 1.82e+00\n",
      "  CPU time: 669s, wall time: 947s, perf_time_load: 1.593s, perf_time: 2.705s\n",
      "step 280 / 1440 (epoch 11.67 / 60):\n",
      "  learning_rate = 1.51e-04, training mAP = 0.00, training loss = 1.39e-01\n",
      "  validation accuracy: 78.12 (75 / 96), f1 (weighted): 77.36, loss: 3.33e-01\n",
      "  CPU time: 705s, wall time: 998s, perf_time_load: 1.840s, perf_time: 3.351s\n"
     ]
    }
   ],
   "source": [
    "accuracy_validation, loss_validation, loss_training, t_step, t_batch = model.fit(training, validation)"
   ]
  },
  {
   "cell_type": "code",
   "execution_count": null,
   "metadata": {},
   "outputs": [],
   "source": [
    "# npix = 12*1024**2\n",
    "# npixel = [npix/(12*o**2) for o in range(1,5)]\n",
    "# npixel = [npix]+npixel\n",
    "# npixel = npixel+[12*32**2]\n",
    "# DeepSphere = [201, 175, 42, 10.3, 2.8, 1.0]\n",
    "# plt.loglog(npixel, DeepSphere, label='DeepSphere')\n",
    "# npixel_cohen = [4*bw**2 for bw in [64, 128, 220]]\n",
    "# t_cohen = [12, 32, 175]\n",
    "# t_esteves = [9, 16]\n",
    "# plt.loglog(npixel_cohen, t_cohen, label='Cohen')\n",
    "# plt.loglog(npixel_cohen[:-1], t_esteves, label='Esteves')\n",
    "# plt.legend(fontsize=12)\n",
    "# plt.xlabel('number of pixels', fontsize=15)\n",
    "# plt.ylabel('Inference speed [s]', fontsize = 15)\n",
    "# plt.xticks(fontsize=12)\n",
    "# plt.yticks(fontsize=12)\n",
    "# plt.savefig('./figures/cosmo_time.png', bboxes_inches='tight')"
   ]
  },
  {
   "cell_type": "markdown",
   "metadata": {},
   "source": [
    "We can see below that the classifier does not overfit the training data."
   ]
  },
  {
   "cell_type": "code",
   "execution_count": null,
   "metadata": {},
   "outputs": [],
   "source": [
    "plot.plot_loss(loss_training, loss_validation, t_step, params['eval_frequency'])"
   ]
  },
  {
   "cell_type": "code",
   "execution_count": null,
   "metadata": {},
   "outputs": [],
   "source": [
    "error_validation = experiment_helper.model_error(model, features_validation[:,:,np.newaxis], labels_validation)\n",
    "print('The validation error is {:.2%}'.format(error_validation), flush=True)"
   ]
  },
  {
   "cell_type": "code",
   "execution_count": null,
   "metadata": {},
   "outputs": [],
   "source": [
    "error_test = experiment_helper.model_error(model, features_test[:,:,np.newaxis], labels_test)\n",
    "print('The testing error is {:.2%}'.format(error_test), flush=True)"
   ]
  }
 ],
 "metadata": {
  "kernelspec": {
   "display_name": "Python 3",
   "language": "python",
   "name": "python3"
  },
  "language_info": {
   "codemirror_mode": {
    "name": "ipython",
    "version": 3
   },
   "file_extension": ".py",
   "mimetype": "text/x-python",
   "name": "python",
   "nbconvert_exporter": "python",
   "pygments_lexer": "ipython3",
   "version": "3.6.7"
  }
 },
 "nbformat": 4,
 "nbformat_minor": 2
}
